{
 "cells": [
  {
   "cell_type": "markdown",
   "metadata": {},
   "source": [
    "### Code Hist."
   ]
  },
  {
   "cell_type": "markdown",
   "metadata": {},
   "source": [
    " - CODE  \n",
    "    &ensp; : Model - Transformer  \n",
    "\n",
    "  - DATE  \n",
    "    &ensp; 2024-01-06 Created  \n",
    "    &emsp;&emsp;&emsp;&emsp;&emsp;&emsp; 1)   \n",
    "    \n",
    " - DESC  \n",
    "    &ensp; :   \n",
    "\n",
    " - DATA  \n",
    "  \n",
    " - Related Link  \n",
    "    &ensp; : "
   ]
  },
  {
   "cell_type": "markdown",
   "metadata": {},
   "source": [
    "# 01. Code"
   ]
  },
  {
   "cell_type": "markdown",
   "metadata": {},
   "source": [
    "## 01-01. Init"
   ]
  },
  {
   "cell_type": "markdown",
   "metadata": {},
   "source": [
    "### 01-01-01. Init_Module Import"
   ]
  },
  {
   "cell_type": "code",
   "execution_count": 1,
   "metadata": {},
   "outputs": [
    {
     "ename": "ImportError",
     "evalue": "cannot import name 'submission_test' from 'utils' (c:\\Users\\Admin\\anaconda3\\envs\\dev-ts\\lib\\site-packages\\utils\\__init__.py)",
     "output_type": "error",
     "traceback": [
      "\u001b[1;31m---------------------------------------------------------------------------\u001b[0m",
      "\u001b[1;31mImportError\u001b[0m                               Traceback (most recent call last)",
      "Cell \u001b[1;32mIn[1], line 14\u001b[0m\n\u001b[0;32m     11\u001b[0m \u001b[38;5;28;01mimport\u001b[39;00m \u001b[38;5;21;01mrandom\u001b[39;00m\n\u001b[0;32m     12\u001b[0m \u001b[38;5;28;01mfrom\u001b[39;00m \u001b[38;5;21;01mpandas\u001b[39;00m \u001b[38;5;28;01mimport\u001b[39;00m DataFrame, Series\n\u001b[1;32m---> 14\u001b[0m \u001b[38;5;28;01mfrom\u001b[39;00m \u001b[38;5;21;01mutils\u001b[39;00m \u001b[38;5;28;01mimport\u001b[39;00m submission_test\n\u001b[0;32m     16\u001b[0m \u001b[38;5;66;03m## Datetime\u001b[39;00m\n\u001b[0;32m     17\u001b[0m \u001b[38;5;28;01mimport\u001b[39;00m \u001b[38;5;21;01mtime\u001b[39;00m\n",
      "\u001b[1;31mImportError\u001b[0m: cannot import name 'submission_test' from 'utils' (c:\\Users\\Admin\\anaconda3\\envs\\dev-ts\\lib\\site-packages\\utils\\__init__.py)"
     ]
    }
   ],
   "source": [
    "#region Basic_Import\n",
    "## Basic\n",
    "import os\n",
    "import warnings\n",
    "warnings.filterwarnings('ignore')\n",
    "\n",
    "import numpy as np\n",
    "from numpy import array, hstack\n",
    "\n",
    "import pandas as pd\n",
    "import random\n",
    "from pandas import DataFrame, Series\n",
    "\n",
    "from utils import submission_test\n",
    "\n",
    "## Datetime\n",
    "import time\n",
    "import datetime as dt\n",
    "from datetime import datetime, date, timedelta\n",
    "\n",
    "import glob\n",
    "from glob import glob\n",
    "import requests\n",
    "import json\n",
    "\n",
    "## 시각화\n",
    "import seaborn as sns\n",
    "import matplotlib.pyplot as plt\n",
    "%matplotlib inline\n",
    "plt.rcParams['figure.figsize'] = [10, 8]\n",
    "\n",
    "from scipy import stats\n",
    "\n",
    "## TSNE\n",
    "from sklearn.datasets import load_digits\n",
    "from sklearn.manifold import TSNE\n",
    "\n",
    "## 정규화\n",
    "# from sklearn.preprocessing import MinMaxScaler, StandardScaler\n",
    "## Modeling, Model Training\n",
    "from sklearn.model_selection import train_test_split, KFold, GridSearchCV\n",
    "## Model 평가\n",
    "from sklearn.metrics import mean_absolute_percentage_error, mean_absolute_error, mean_squared_error, r2_score   # model.score   \n",
    "\n",
    "## Excel/CSV\n",
    "import openpyxl, xlrd\n",
    "\n",
    "import urllib\n",
    "from urllib.request import urlopen\n",
    "from urllib.parse import urlencode, unquote, quote_plus\n",
    "\n",
    "from selenium import webdriver\n",
    "from selenium.webdriver.chrome.service import Service\n",
    "\n",
    "from webdriver_manager.chrome import ChromeDriverManager\n",
    "from bs4 import BeautifulSoup\n",
    "\n",
    "## Init.\n",
    "pd.options.display.float_format = '{:.10f}'.format\n",
    "#endregion Basic_Import"
   ]
  },
  {
   "cell_type": "code",
   "execution_count": null,
   "metadata": {},
   "outputs": [
    {
     "name": "stdout",
     "output_type": "stream",
     "text": [
      "Torch Imported\n"
     ]
    }
   ],
   "source": [
    "## Import_DL\n",
    "str_tar = \"torch\"\n",
    "## For Torch\n",
    "if str_tar == \"torch\":\n",
    "    import torch\n",
    "    import torch.nn as nn\n",
    "    from torch.nn.utils import weight_norm\n",
    "    print(\"Torch Imported\")\n",
    "## For TF\n",
    "elif str_tar == \"tf\":\n",
    "    import tensorflow as tf\n",
    "    import tensorflow_addons as tfa\n",
    "    print(\"Tensorflow Imported\")\n",
    "else:\n",
    "    print(\"Error : Cannot be used except for Keywords\")\n",
    "    print(\" : torch / tf\")"
   ]
  },
  {
   "cell_type": "code",
   "execution_count": null,
   "metadata": {},
   "outputs": [],
   "source": [
    "## Import_Local (현재 프로그램에서 미사용)\n",
    "from DEV_Common_Data_Analysis import print_desc_statistic\n",
    "from DEV_Common_Data_Datetime import create_col_ymdhm, create_col_datetime, create_df_dt, conv_midnight_24to00, create_col_weekdays #, validate_date, list_invalidDate, calc_df_dt\n",
    "from DEV_Common_Data_Preprocessing import resample_by_last, find_outlier_Usages, del_outlier_Usages\n",
    "from DEV_Common_Data_Visualization import visualization_df\n",
    "from DEV_KASI_Holiday import KASI_holiDay, KASI_restDay, KASI_anniDay\n",
    "from DEV_KMA_Weather_ASOS import KMA_ASOS_DATA\n",
    "from DEV_KDHC_Usage import KDHC_HEAT_Usage"
   ]
  },
  {
   "cell_type": "markdown",
   "metadata": {},
   "source": [
    "### 01-01-02. Config (Directory, Params)"
   ]
  },
  {
   "cell_type": "code",
   "execution_count": null,
   "metadata": {},
   "outputs": [],
   "source": [
    "## Init_config\n",
    "SEED = 42\n",
    "\n",
    "np.random.seed(SEED)\n",
    "tf.random.set_seed(SEED)\n",
    "os.environ[\"PYTHONHASHSEED\"] = str(SEED)\n",
    "os.environ['TF_DETERMINISTIC_OPS'] = \"1\"\n",
    "random.seed(SEED)"
   ]
  },
  {
   "cell_type": "code",
   "execution_count": null,
   "metadata": {},
   "outputs": [
    {
     "name": "stdout",
     "output_type": "stream",
     "text": [
      "2024-01-05 18:59:03.908913\n",
      "2024 / 1 / 5\n",
      "18 : 59\n"
     ]
    }
   ],
   "source": [
    "## Define Todate str\n",
    "str_now_ymd = pd.datetime.now().date()\n",
    "str_now_y = pd.datetime.now().year\n",
    "str_now_m = pd.datetime.now().month\n",
    "str_now_d = pd.datetime.now().day\n",
    "str_now_hr = pd.datetime.now().hour\n",
    "str_now_min = pd.datetime.now().minute\n",
    "\n",
    "print(pd.datetime.now())\n",
    "print(str(str_now_y) + \" / \" + str(str_now_m)  + \" / \" + str(str_now_d))\n",
    "print(str(str_now_hr) + \" : \" + str(str_now_min))"
   ]
  },
  {
   "cell_type": "markdown",
   "metadata": {},
   "source": [
    "## 01-02. Data Load (df_raw)"
   ]
  },
  {
   "cell_type": "markdown",
   "metadata": {},
   "source": [
    "### 01-02-01. KDHC Heat Usage"
   ]
  },
  {
   "cell_type": "code",
   "execution_count": null,
   "metadata": {},
   "outputs": [
    {
     "name": "stdout",
     "output_type": "stream",
     "text": [
      "Index(['METER_DATE', 'YEAR', 'MONTH', 'DAY', 'code_day_of_the_week', 'rest_YN',\n",
      "       'dist_from_holiday', 'HOUR', 'PAJU', 'GOYANG', 'SAMSONG', 'JOONGANG',\n",
      "       'KANGNAM', 'PANGYO', 'BUNDANG', 'YONGIN', 'GWANGGYO', 'SUWON',\n",
      "       'HWASUNG', 'DONGTAN', 'PYONGTAEK', 'CHEONGJU', 'SEJONG', 'KIMHAE',\n",
      "       'DAEGU', 'YANGSAN', 'GWANGJU_JEONNAM'],\n",
      "      dtype='object')\n"
     ]
    }
   ],
   "source": [
    "# Define data root directory\n",
    "str_dir_kdhcHeat = \"./data_Energy_KDHC_National_Heat/\"\n",
    "# print(os.listdir(str_dir_kdhcHeat))\n",
    "\n",
    "df_kdhc_heat = pd.read_csv(str_dir_kdhcHeat + 'KDHC_COMB_HEATxWEATHER_2019-2022.csv', index_col = 0)\n",
    "df_kdhc_heat = df_kdhc_heat[['METER_DATE', 'YEAR', 'MONTH', 'DAY', 'code_day_of_the_week', 'rest_YN', 'dist_from_holiday'\n",
    "                             ,'HOUR'\n",
    "                            #  , 'temp_outdoor', 'temp_dew_point', 'temp_ground'\n",
    "                            #  , 'humidity'\n",
    "                            #  , 'rainfall'\n",
    "                            #  , 'snowfall', 'snowfall_3hr'\n",
    "                            #  , 'wind_speed', 'wind_direction'\n",
    "                            #  , 'pressure_vapor', 'pressure_area', 'pressure_sea'\n",
    "                            #  , 'visual_range'\n",
    "                             , 'PAJU', 'GOYANG', 'SAMSONG', 'JOONGANG'\n",
    "                             , 'KANGNAM'\n",
    "                             , 'PANGYO', 'BUNDANG', 'YONGIN', 'GWANGGYO', 'SUWON', 'HWASUNG', 'DONGTAN', 'PYONGTAEK', 'CHEONGJU', 'SEJONG'\n",
    "                             , 'KIMHAE', 'DAEGU', 'YANGSAN'\n",
    "                             , 'GWANGJU_JEONNAM']]\n",
    "## 어디서 중복 생긴건지 확인 필요\n",
    "df_kdhc_heat = df_kdhc_heat.drop_duplicates()\n",
    "\n",
    "df_kdhc_heat['METER_DATE'] = pd.to_datetime(df_kdhc_heat['METER_DATE'])\n",
    "df_dt = df_kdhc_heat['METER_DATE']\n",
    "\n",
    "## 추출된 \"DATE\"로부터 Week를 계산\n",
    "# df_kdhc_heat['WEEK'] = df_kdhc_heat['METER_DATE'].dt.strftime('%G-%V') \n",
    "\n",
    "for i in range(0, len(df_kdhc_heat)):\n",
    "    ## 중간에 Code화 되지 않은 rest_YN Data가 있다.\n",
    "    if((str(df_kdhc_heat['rest_YN'].iloc[i]) == 'N') | (df_kdhc_heat['rest_YN'].iloc[i] == '0')):\n",
    "        df_kdhc_heat['rest_YN'].iloc[i] = 0\n",
    "    if((str(df_kdhc_heat['rest_YN'].iloc[i]) == 'Y') | (df_kdhc_heat['rest_YN'].iloc[i] == '1')):\n",
    "        df_kdhc_heat['rest_YN'].iloc[i] = 1\n",
    "\n",
    "    ## 중간에 이상하게 처리된 KASI Data가 있다.\n",
    "    if((str(df_kdhc_heat['dist_from_holiday'].iloc[i]) == '제헌절')\n",
    "        | (str(df_kdhc_heat['dist_from_holiday'].iloc[i]) == '한글날')):\n",
    "        df_kdhc_heat['dist_from_holiday'].iloc[i] = 0\n",
    "\n",
    "df_kdhc_heat['rest_YN'] = df_kdhc_heat['rest_YN'].astype('int64')\n",
    "df_kdhc_heat['dist_from_holiday'] = df_kdhc_heat['rest_YN'].astype('int64')\n",
    "\n",
    "print(df_kdhc_heat.columns)\n",
    "# df_kdhc_heat"
   ]
  },
  {
   "cell_type": "code",
   "execution_count": null,
   "metadata": {},
   "outputs": [],
   "source": []
  },
  {
   "cell_type": "code",
   "execution_count": 12,
   "metadata": {},
   "outputs": [
    {
     "ename": "NameError",
     "evalue": "name 'nn' is not defined",
     "output_type": "error",
     "traceback": [
      "\u001b[1;31m---------------------------------------------------------------------------\u001b[0m",
      "\u001b[1;31mNameError\u001b[0m                                 Traceback (most recent call last)",
      "Cell \u001b[1;32mIn[12], line 1\u001b[0m\n\u001b[1;32m----> 1\u001b[0m \u001b[38;5;28mself\u001b[39m\u001b[38;5;241m.\u001b[39mencoder_input_layer \u001b[38;5;241m=\u001b[39m \u001b[43mnn\u001b[49m\u001b[38;5;241m.\u001b[39mLinear(\n\u001b[0;32m      2\u001b[0m   in_features\u001b[38;5;241m=\u001b[39minput_size, \u001b[38;5;66;03m# 1\u001b[39;00m\n\u001b[0;32m      3\u001b[0m   out_features\u001b[38;5;241m=\u001b[39mdim_val \u001b[38;5;66;03m# 512\u001b[39;00m\n\u001b[0;32m      4\u001b[0m )\n",
      "\u001b[1;31mNameError\u001b[0m: name 'nn' is not defined"
     ]
    }
   ],
   "source": []
  },
  {
   "cell_type": "code",
   "execution_count": null,
   "metadata": {},
   "outputs": [],
   "source": []
  },
  {
   "cell_type": "code",
   "execution_count": null,
   "metadata": {},
   "outputs": [],
   "source": []
  },
  {
   "cell_type": "code",
   "execution_count": null,
   "metadata": {},
   "outputs": [],
   "source": []
  },
  {
   "cell_type": "code",
   "execution_count": null,
   "metadata": {},
   "outputs": [],
   "source": []
  },
  {
   "cell_type": "code",
   "execution_count": null,
   "metadata": {},
   "outputs": [],
   "source": []
  },
  {
   "cell_type": "code",
   "execution_count": null,
   "metadata": {},
   "outputs": [],
   "source": []
  }
 ],
 "metadata": {
  "anaconda-cloud": {},
  "kernelspec": {
   "display_name": "Python 3 (ipykernel)",
   "language": "python",
   "name": "python3"
  },
  "language_info": {
   "codemirror_mode": {
    "name": "ipython",
    "version": 3
   },
   "file_extension": ".py",
   "mimetype": "text/x-python",
   "name": "python",
   "nbconvert_exporter": "python",
   "pygments_lexer": "ipython3",
   "version": "3.10.9"
  }
 },
 "nbformat": 4,
 "nbformat_minor": 4
}
